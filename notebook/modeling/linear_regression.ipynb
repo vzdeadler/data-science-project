{
 "cells": [
  {
   "cell_type": "markdown",
   "metadata": {},
   "source": [
    "## All the imports"
   ]
  },
  {
   "cell_type": "code",
   "execution_count": 25,
   "metadata": {},
   "outputs": [],
   "source": [
    "import pandas as pd\n",
    "import numpy as np\n",
    "import matplotlib.pyplot as plt\n",
    "from sklearn.linear_model import LinearRegression"
   ]
  },
  {
   "cell_type": "markdown",
   "metadata": {},
   "source": [
    "## Getting all the year's data"
   ]
  },
  {
   "cell_type": "code",
   "execution_count": 20,
   "metadata": {},
   "outputs": [
    {
     "name": "stdout",
     "output_type": "stream",
     "text": [
      "[0, 7782, 6937, 7768, 7916, 8906, 8834, 8538, 8337, 667, 0, 0]\n"
     ]
    }
   ],
   "source": [
    "data = pd.read_csv('../../data/processed/crimes_processed.csv', encoding = \"ISO-8859-1\")\n",
    "\n",
    "arr_2015 = []\n",
    "arr_2016 = []\n",
    "arr_2017 = []\n",
    "arr_2018 = []\n",
    "\n",
    "data_2015 = data.loc[data['YEAR'] == 2015]\n",
    "data_2016 = data.loc[data['YEAR'] == 2016]\n",
    "data_2017 = data.loc[data['YEAR'] == 2017]\n",
    "data_2018 = data.loc[data['YEAR'] == 2018]\n",
    "\n",
    "for x in range (0, 12):\n",
    "    arr_2015.append(len(data_2015.loc[data['MONTH'] == x]))\n",
    "    arr_2016.append(len(data_2016.loc[data['MONTH'] == x]))\n",
    "    arr_2017.append(len(data_2017.loc[data['MONTH'] == x]))\n",
    "    arr_2018.append(len(data_2018.loc[data['MONTH'] == x]))"
   ]
  },
  {
   "cell_type": "markdown",
   "metadata": {},
   "source": [
    "## Calculating the media of all the data"
   ]
  },
  {
   "cell_type": "code",
   "execution_count": 21,
   "metadata": {},
   "outputs": [
    {
     "name": "stdout",
     "output_type": "stream",
     "text": [
      "36\n",
      "294929\n",
      "8192.472222222223\n"
     ]
    }
   ],
   "source": [
    "total = 0\n",
    "total_count = 0\n",
    "media = 0\n",
    "\n",
    "for x in range (0, 12):\n",
    "    if arr_2015[x] > 1000:\n",
    "        total += arr_2015[x]\n",
    "        total_count = total_count + 1\n",
    "    if arr_2016[x] > 1000:\n",
    "        total += arr_2016[x]\n",
    "        total_count = total_count + 1\n",
    "    if arr_2017[x] > 1000:\n",
    "        total += arr_2017[x]\n",
    "        total_count = total_count + 1\n",
    "    if arr_2018[x] > 1000:\n",
    "        total += arr_2018[x]\n",
    "        total_count = total_count + 1\n",
    "\n",
    "media = total / total_count\n",
    "print(total_count)\n",
    "print(total)\n",
    "print(media)"
   ]
  },
  {
   "cell_type": "markdown",
   "metadata": {},
   "source": [
    "## Replacing all missing data for the media"
   ]
  },
  {
   "cell_type": "code",
   "execution_count": 23,
   "metadata": {},
   "outputs": [
    {
     "name": "stdout",
     "output_type": "stream",
     "text": [
      "48\n",
      "[8192.472222222223, 8192.472222222223, 8192.472222222223, 8192.472222222223, 8192.472222222223, 8192.472222222223, 4191, 8324, 8342, 8414, 8308, 7818, 8192.472222222223, 7835, 7308, 8199, 8101, 8578, 8558, 8619, 8938, 8522, 8583, 7922, 8192.472222222223, 7993, 7408, 8179, 8069, 8715, 8985, 9075, 9206, 8940, 8846, 7935, 8192.472222222223, 7782, 6937, 7768, 7916, 8906, 8834, 8538, 8337, 8192.472222222223, 8192.472222222223, 8192.472222222223]\n"
     ]
    }
   ],
   "source": [
    "all_data = []\n",
    "all_data.extend(arr_2015)\n",
    "all_data.extend(arr_2016)\n",
    "all_data.extend(arr_2017)\n",
    "all_data.extend(arr_2018)\n",
    "\n",
    "for x in range (0, len(all_data)):\n",
    "    if(all_data[x] < 1000):\n",
    "        all_data[x] = media"
   ]
  },
  {
   "cell_type": "markdown",
   "metadata": {},
   "source": [
    "## Getting a prediction using linear regression\n",
    "### You can change the value of number_to_predict to predict the month"
   ]
  },
  {
   "cell_type": "code",
   "execution_count": 41,
   "metadata": {},
   "outputs": [
    {
     "name": "stdout",
     "output_type": "stream",
     "text": [
      "[8475.77247823]\n"
     ]
    }
   ],
   "source": [
    "x = np.arange(len(all_data)).reshape((-1, 1))\n",
    "y = all_data\n",
    "\n",
    "model = LinearRegression()\n",
    "model.fit(x, y)\n",
    "r_sq = model.score(x, y)\n",
    "\n",
    "number_to_predict = 49\n",
    "prediction = model.intercept_ + model.coef_ * number_to_predict\n",
    "print(prediction)\n"
   ]
  },
  {
   "cell_type": "code",
   "execution_count": null,
   "metadata": {},
   "outputs": [],
   "source": []
  }
 ],
 "metadata": {
  "kernelspec": {
   "display_name": "Python 3",
   "language": "python",
   "name": "python3"
  },
  "language_info": {
   "codemirror_mode": {
    "name": "ipython",
    "version": 3
   },
   "file_extension": ".py",
   "mimetype": "text/x-python",
   "name": "python",
   "nbconvert_exporter": "python",
   "pygments_lexer": "ipython3",
   "version": "3.7.3"
  }
 },
 "nbformat": 4,
 "nbformat_minor": 2
}
