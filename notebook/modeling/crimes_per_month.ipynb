{
 "cells": [
  {
   "cell_type": "markdown",
   "metadata": {},
   "source": [
    "## All the imports"
   ]
  },
  {
   "cell_type": "code",
   "execution_count": 1,
   "metadata": {},
   "outputs": [],
   "source": [
    "import pandas as pd\n",
    "import numpy as np\n",
    "import matplotlib.pyplot as plt"
   ]
  },
  {
   "cell_type": "code",
   "execution_count": 7,
   "metadata": {},
   "outputs": [
    {
     "name": "stdout",
     "output_type": "stream",
     "text": [
      "Select the year (2015 to 2018) you want to inspect: 2018\n",
      "-- -- -- -- -- -- -- -- -- -- -- -- -- -- -- --\n",
      "No data for January of 2018\n",
      "Crimes in February of 2018: 7782\n",
      "Crimes in March of 2018: 6937\n",
      "Crimes in April of 2018: 7768\n",
      "Crimes in May of 2018: 7916\n",
      "Crimes in June of 2018: 8906\n",
      "Crimes in July of 2018: 8834\n",
      "Crimes in August of 2018: 8538\n",
      "Crimes in September of 2018: 8337\n",
      "Crimes in October of 2018: 667\n",
      "No data for November of 2018\n",
      "No data for December of 2018\n"
     ]
    }
   ],
   "source": [
    "data = pd.read_csv('../../data/processed/crimes_processed.csv', encoding = \"ISO-8859-1\")\n",
    "\n",
    "year_selected = input('Select the year (2015 to 2018) you want to inspect: ')\n",
    "year_selected = int(year_selected)\n",
    "\n",
    "year_data = data.loc[data['YEAR'] == year_selected]\n",
    "\n",
    "jan = len(year_data.loc[data['MONTH'] == 0])\n",
    "feb = len(year_data.loc[data['MONTH'] == 1])\n",
    "mar = len(year_data.loc[data['MONTH'] == 2])\n",
    "apr = len(year_data.loc[data['MONTH'] == 3])\n",
    "may = len(year_data.loc[data['MONTH'] == 4])\n",
    "jun = len(year_data.loc[data['MONTH'] == 5])\n",
    "jul = len(year_data.loc[data['MONTH'] == 6])\n",
    "aug = len(year_data.loc[data['MONTH'] == 7])\n",
    "sep = len(year_data.loc[data['MONTH'] == 8])\n",
    "okt = len(year_data.loc[data['MONTH'] == 9])\n",
    "nov = len(year_data.loc[data['MONTH'] == 10])\n",
    "dec = len(year_data.loc[data['MONTH'] == 11])\n",
    "\n",
    "print('-- -- -- -- -- -- -- -- -- -- -- -- -- -- -- --')\n",
    "\n",
    "if(jan > 0):\n",
    "    print('Crimes in January of ' + str(year_selected) + ': ' + str(jan))\n",
    "else:\n",
    "    print('No data for January of ' + str(year_selected))\n",
    "    \n",
    "if(feb > 0):\n",
    "    print('Crimes in February of ' + str(year_selected) + ': ' + str(feb))\n",
    "else:\n",
    "    print('No data for February of ' + str(year_selected))\n",
    "    \n",
    "if(mar > 0):\n",
    "    print('Crimes in March of ' + str(year_selected) + ': ' + str(mar))\n",
    "else:\n",
    "    print('No data for March of ' + str(year_selected))\n",
    "    \n",
    "if(apr > 0):\n",
    "    print('Crimes in April of ' + str(year_selected) + ': ' + str(apr))\n",
    "else:\n",
    "    print('No data for April of ' + str(year_selected))\n",
    "    \n",
    "if(may > 0):\n",
    "    print('Crimes in May of ' + str(year_selected) + ': ' + str(may))\n",
    "else:\n",
    "    print('No data for May of ' + str(year_selected))\n",
    "    \n",
    "if(jun > 0):\n",
    "    print('Crimes in June of ' + str(year_selected) + ': ' + str(jun))\n",
    "else:\n",
    "    print('No data for June of ' + str(year_selected))\n",
    "    \n",
    "if(jul > 0):\n",
    "    print('Crimes in July of ' + str(year_selected) + ': ' + str(jul))\n",
    "else:\n",
    "    print('No data for July of ' + str(year_selected))\n",
    "    \n",
    "if(aug > 0):\n",
    "    print('Crimes in August of ' + str(year_selected) + ': ' + str(aug))\n",
    "else:\n",
    "    print('No data for August of ' + str(year_selected))\n",
    "    \n",
    "if(sep > 0):\n",
    "    print('Crimes in September of ' + str(year_selected) + ': ' + str(sep))\n",
    "else:\n",
    "    print('No data for September of ' + str(year_selected))\n",
    "    \n",
    "if(okt > 0):\n",
    "    print('Crimes in October of ' + str(year_selected) + ': ' + str(okt))\n",
    "else:\n",
    "    print('No data for October of ' + str(year_selected))\n",
    "    \n",
    "if(nov > 0):\n",
    "    print('Crimes in November of ' + str(year_selected) + ': ' + str(nov))\n",
    "else:\n",
    "    print('No data for November of ' + str(year_selected))\n",
    "    \n",
    "if(dec > 0):\n",
    "    print('Crimes in December of ' + str(year_selected) + ': ' + str(dec))\n",
    "else:\n",
    "    print('No data for December of ' + str(year_selected))"
   ]
  },
  {
   "cell_type": "code",
   "execution_count": 9,
   "metadata": {},
   "outputs": [
    {
     "data": {
      "image/png": "[encoded data removed]",
      "text/plain": [
       "<Figure size 432x288 with 1 Axes>"
      ]
     },
     "metadata": {
      "needs_background": "light"
     },
     "output_type": "display_data"
    }
   ],
   "source": [
    "plt.plot([1, 2, 3, 4, 5, 6, 7, 8, 9, 10, 11, 12], [jan, feb, mar, apr, may, jun, jul, aug, sep, okt, nov, dec], 'ro')\n",
    "plt.axis([1, 12, 0, 10000])\n",
    "plt.show()"
   ]
  },
  {
   "cell_type": "code",
   "execution_count": null,
   "metadata": {},
   "outputs": [],
   "source": []
  }
 ],
 "metadata": {
  "kernelspec": {
   "display_name": "Python 3",
   "language": "python",
   "name": "python3"
  },
  "language_info": {
   "codemirror_mode": {
    "name": "ipython",
    "version": 3
   },
   "file_extension": ".py",
   "mimetype": "text/x-python",
   "name": "python",
   "nbconvert_exporter": "python",
   "pygments_lexer": "ipython3",
   "version": "3.7.3"
  }
 },
 "nbformat": 4,
 "nbformat_minor": 2
}
